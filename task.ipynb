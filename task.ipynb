{
 "cells": [
  {
   "cell_type": "markdown",
   "metadata": {},
   "source": [
    "## TASK 1"
   ]
  },
  {
   "cell_type": "markdown",
   "metadata": {},
   "source": [
    "<p> Clean a dataset by removing missing values and outliers."
   ]
  },
  {
   "cell_type": "code",
   "execution_count": 5,
   "metadata": {},
   "outputs": [
    {
     "name": "stdout",
     "output_type": "stream",
     "text": [
      "Cleaned training dataset saved to ./cleaned_train.csv\n",
      "Cleaned test dataset saved to ./cleaned_test.csv\n"
     ]
    }
   ],
   "source": [
    "import zipfile\n",
    "import pandas as pd\n",
    "import os\n",
    "\n",
    "# Set the path to the zip file\n",
    "zip_path = 'titanic.zip'\n",
    "extracted_path = './'\n",
    "\n",
    "# Unzipping the file and extracting its contents\n",
    "with zipfile.ZipFile(zip_path, 'r') as zip_ref:\n",
    "    zip_ref.extractall(extracted_path)\n",
    "\n",
    "# Load the training and test datasets\n",
    "train_data_path = os.path.join(extracted_path, 'train.csv')\n",
    "test_data_path = os.path.join(extracted_path, 'test.csv')\n",
    "train_df = pd.read_csv(train_data_path)\n",
    "test_df = pd.read_csv(test_data_path)\n",
    "\n",
    "# Function to handle missing values and remove outliers\n",
    "def clean_dataset(df, is_train=True):\n",
    "    # Fill missing values in 'Age' with the median age\n",
    "    df['Age'].fillna(df['Age'].median(), inplace=True)\n",
    "    \n",
    "    # Drop the 'Cabin' column due to many missing values\n",
    "    df.drop(columns=['Cabin'], inplace=True)\n",
    "    \n",
    "    # Fill missing values in 'Embarked' with the mode (most frequent value)\n",
    "    if is_train:\n",
    "        df['Embarked'].fillna(df['Embarked'].mode()[0], inplace=True)\n",
    "    \n",
    "    # Fill missing values in 'Fare' with the median (for test dataset)\n",
    "    if not is_train:\n",
    "        df['Fare'].fillna(df['Fare'].median(), inplace=True)\n",
    "    \n",
    "    # Function to remove outliers using IQR\n",
    "    def remove_outliers(df, column):\n",
    "        Q1 = df[column].quantile(0.25)\n",
    "        Q3 = df[column].quantile(0.75)\n",
    "        IQR = Q3 - Q1\n",
    "        lower_bound = Q1 - 1.5 * IQR\n",
    "        upper_bound = Q3 + 1.5 * IQR\n",
    "        df = df[(df[column] >= lower_bound) & (df[column] <= upper_bound)]\n",
    "        return df\n",
    "    \n",
    "    # Remove outliers from 'Age' and 'Fare' if it's the training dataset\n",
    "    if is_train:\n",
    "        df = remove_outliers(df, 'Age')\n",
    "        df = remove_outliers(df, 'Fare')\n",
    "    \n",
    "    return df\n",
    "\n",
    "# Clean the training and test datasets\n",
    "clean_train_df = clean_dataset(train_df, is_train=True)\n",
    "clean_test_df = clean_dataset(test_df, is_train=False)\n",
    "\n",
    "# Save the cleaned datasets to new CSV files\n",
    "cleaned_train_data_path = os.path.join(extracted_path, 'cleaned_train.csv')\n",
    "cleaned_test_data_path = os.path.join(extracted_path, 'cleaned_test.csv')\n",
    "clean_train_df.to_csv(cleaned_train_data_path, index=False)\n",
    "clean_test_df.to_csv(cleaned_test_data_path, index=False)\n",
    "\n",
    "print(f\"Cleaned training dataset saved to {cleaned_train_data_path}\")\n",
    "print(f\"Cleaned test dataset saved to {cleaned_test_data_path}\")\n"
   ]
  },
  {
   "cell_type": "markdown",
   "metadata": {},
   "source": [
    "## TASK 2\n"
   ]
  },
  {
   "cell_type": "markdown",
   "metadata": {},
   "source": [
    "<p> Calculate summary statistics (mean, median,mode, standard deviation) for a dataset\n",
    "\n"
   ]
  },
  {
   "cell_type": "code",
   "execution_count": 6,
   "metadata": {},
   "outputs": [
    {
     "name": "stdout",
     "output_type": "stream",
     "text": [
      "Summary Statistics for Cleaned Training Dataset:\n",
      "                   mean  median   mode     std_dev\n",
      "PassengerId  447.883008  447.50   1.00  259.549777\n",
      "Survived       0.334262    0.00   0.00    0.472061\n",
      "Pclass         2.512535    3.00   3.00    0.715818\n",
      "Age           28.079387   28.00  28.00   10.012369\n",
      "SibSp          0.413649    0.00   0.00    0.855001\n",
      "Parch          0.317549    0.00   0.00    0.784792\n",
      "Fare          17.193204   11.75   8.05   13.244507\n",
      "\n",
      "Summary Statistics for Cleaned Test Dataset:\n",
      "                    mean     median    mode     std_dev\n",
      "PassengerId  1100.500000  1100.5000  892.00  120.810458\n",
      "Pclass          2.265550     3.0000    3.00    0.841838\n",
      "Age            29.599282    27.0000   27.00   12.703770\n",
      "SibSp           0.447368     0.0000    0.00    0.896760\n",
      "Parch           0.392344     0.0000    0.00    0.981429\n",
      "Fare           35.576535    14.4542    7.75   55.850103\n",
      "Summary statistics for training dataset saved to ./train_summary_statistics.csv\n",
      "Summary statistics for test dataset saved to ./test_summary_statistics.csv\n"
     ]
    }
   ],
   "source": [
    "# Function to calculate summary statistics\n",
    "def summary_statistics(df):\n",
    "    stats = {}\n",
    "    for column in df.select_dtypes(include=['float64', 'int64']).columns:\n",
    "        stats[column] = {\n",
    "            'mean': df[column].mean(),\n",
    "            'median': df[column].median(),\n",
    "            'mode': df[column].mode()[0],\n",
    "            'std_dev': df[column].std()\n",
    "        }\n",
    "    return pd.DataFrame(stats).transpose()f\n",
    "\n",
    "# Calculate summary statistics for the cleaned training and test datasets\n",
    "train_summary_stats = summary_statistics(clean_train_df)\n",
    "test_summary_stats = summary_statistics(clean_test_df)\n",
    "\n",
    "# Display summary statistics\n",
    "print(\"Summary Statistics for Cleaned Training Dataset:\")\n",
    "print(train_summary_stats)\n",
    "\n",
    "print(\"\\nSummary Statistics for Cleaned Test Dataset:\")\n",
    "print(test_summary_stats)\n",
    "\n",
    "# Save summary statistics to CSV files\n",
    "train_summary_stats_path = os.path.join(extracted_path, 'train_summary_statistics.csv')\n",
    "test_summary_stats_path = os.path.join(extracted_path, 'test_summary_statistics.csv')\n",
    "train_summary_stats.to_csv(train_summary_stats_path)\n",
    "test_summary_stats.to_csv(test_summary_stats_path)\n",
    "\n",
    "print(f\"Summary statistics for training dataset saved to {train_summary_stats_path}\")\n",
    "print(f\"Summary statistics for test dataset saved to {test_summary_stats_path}\")\n"
   ]
  }
 ],
 "metadata": {
  "kernelspec": {
   "display_name": "Python 3",
   "language": "python",
   "name": "python3"
  },
  "language_info": {
   "codemirror_mode": {
    "name": "ipython",
    "version": 3
   },
   "file_extension": ".py",
   "mimetype": "text/x-python",
   "name": "python",
   "nbconvert_exporter": "python",
   "pygments_lexer": "ipython3",
   "version": "3.11.5"
  }
 },
 "nbformat": 4,
 "nbformat_minor": 2
}
